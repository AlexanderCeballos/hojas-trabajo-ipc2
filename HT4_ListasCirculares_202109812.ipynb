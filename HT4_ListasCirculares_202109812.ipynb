{
  "nbformat": 4,
  "nbformat_minor": 0,
  "metadata": {
    "colab": {
      "provenance": []
    },
    "kernelspec": {
      "name": "python3",
      "display_name": "Python 3"
    },
    "language_info": {
      "name": "python"
    }
  },
  "cells": [
    {
      "cell_type": "markdown",
      "source": [
        "Alexander Santiago Ceballos Gil 202109812"
      ],
      "metadata": {
        "id": "7gWV6459A0zY"
      }
    },
    {
      "cell_type": "markdown",
      "source": [
        "**Hoja de trabajo 4**"
      ],
      "metadata": {
        "id": "uQm3dQ3WAxoY"
      }
    },
    {
      "cell_type": "markdown",
      "source": [
        "Listas circulares\n"
      ],
      "metadata": {
        "id": "dUpCZ-SMx6bI"
      }
    },
    {
      "cell_type": "code",
      "source": [
        "class receta:\n",
        "  def __init__(self, paciente, fecha_nac, doctor, colegiado, fecha_cita, hora_cita, tipo_consulta, tratamiento):\n",
        "    self.paciente = paciente\n",
        "    self.fecha_nac = fecha_nac\n",
        "    self.doctor = doctor\n",
        "    self.colegiado = colegiado\n",
        "    self.fecha_cita = fecha_cita\n",
        "    self.hora_cita = hora_cita\n",
        "    self.tipo_consulta = tipo_consulta\n",
        "    self.tratamiento = tratamiento\n"
      ],
      "metadata": {
        "id": "xEPssikTx8oW"
      },
      "execution_count": 9,
      "outputs": []
    },
    {
      "cell_type": "markdown",
      "source": [
        "Definicion de la clase nodo"
      ],
      "metadata": {
        "id": "WjW8KRfIyVF3"
      }
    },
    {
      "cell_type": "code",
      "source": [
        "class nodo:\n",
        "  #receta variable\n",
        "  def __init__ (self, receta=None, siguiente=None):\n",
        "    self.receta = receta\n",
        "    self.siguiente = siguiente\n"
      ],
      "metadata": {
        "id": "tA2-jm0ByRVu"
      },
      "execution_count": 10,
      "outputs": []
    },
    {
      "cell_type": "code",
      "source": [
        "class lista_circular:\n",
        "  def __init__(self):\n",
        "    self.primero = None\n",
        "\n",
        "  def insertar(self, receta):\n",
        "    if self.primero is None:\n",
        "      self.primero = nodo(receta=receta)\n",
        "      self.primero.siguiente = self.primero\n",
        "    else:\n",
        "      actual = nodo(receta=receta, siguiente=self.primero.siguiente)\n",
        "      self.primero.siguiente = actual\n",
        "\n",
        "  def recorrer(self):\n",
        "    if self.primero is None:\n",
        "      return\n",
        "    actual = self.primero\n",
        "    print(\"Paciente: \", actual.receta.paciente, \"| Fecha de nacimiento: \", actual.receta.fecha_nac, \"| Doctor: \", actual.receta.doctor, \"| Colegiado: \", actual.receta.colegiado, \"| Fecha de cita: \", actual.receta.fecha_cita, \"| Hora de cita:\", actual.receta.hora_cita, \"| Tipo de consulta: \", actual.receta.tipo_consulta, \"| Tratamiento:\", actual.receta.tratamiento)\n",
        "    while actual.siguiente != self.primero:\n",
        "      actual = actual.siguiente\n",
        "      print(\"Paciente: \", actual.receta.paciente, \"| Fecha de nacimiento: \", actual.receta.fecha_nac, \"| Doctor: \", actual.receta.doctor, \"| Colegiado: \", actual.receta.colegiado, \"| Fecha de cita: \", actual.receta.fecha_cita, \"| Hora de cita:\", actual.receta.hora_cita, \"| Tipo de consulta: \", actual.receta.tipo_consulta, \"| Tratamiento:\", actual.receta.tratamiento)\n",
        "  \n",
        "  def eliminar(self, colegiado, fecha_cita, hora_cita):\n",
        "    actual = self.primero\n",
        "    anterior = None\n",
        "    no_encontrado = False\n",
        "\n",
        "    while actual and actual.receta.colegiado != colegiado and actual.receta.fecha_cita != fecha_cita and actual.receta.hora_cita != hora_cita:\n",
        "      anterior = actual\n",
        "      actual = actual.siguiente\n",
        "\n",
        "      if actual == self.primero:\n",
        "        no_encontrado = True\n",
        "        print(\"No encontrado\")\n",
        "        break\n",
        "\n",
        "    if not no_encontrado:\n",
        "      if anterior is not None:\n",
        "        anterior.siguiente = actual.siguiente\n",
        "        actual.siguiente = None\n",
        "      else:\n",
        "        while actual.siguiente != self.primero:\n",
        "          actual = actual.siguiente\n",
        "        actual.siguiente = self.primero.siguiente\n",
        "        self.primero = self.primero.siguiente\n",
        "\n",
        "  # Funcion modificar HT4 \n",
        "  def modificar(self, paciente, fecha_cita, hora_cita):\n",
        "    actual = self.primero\n",
        "    anterior = None\n",
        "    no_encontrado = False\n",
        "\n",
        "    while actual and actual.receta.paciente != paciente:\n",
        "      anterior = actual\n",
        "      actual = actual.siguiente\n",
        "\n",
        "      if actual == self.primero:\n",
        "        no_encontrado = True\n",
        "        print(\"No encontrado\")\n",
        "        break\n",
        "\n",
        "    if not no_encontrado:\n",
        "      print(\"Datos antes de la modificacion----------\")\n",
        "      print(\"Nombre del Paciente: \" + actual.receta.paciente +\" | Fecha de la cita: \" + actual.receta.fecha_cita + \" | Hora de la cita: \" + actual.receta.hora_cita)\n",
        "\n",
        "      actual.receta.fecha_cita = fecha_cita\n",
        "      actual.receta.hora_cita = hora_cita\n",
        "         \n",
        "      print(\"Datos despues de la modificacion----------\")\n",
        "      print(\"Nombre del Paciente: \" + actual.receta.paciente +\" | Fecha de la cita: \" + actual.receta.fecha_cita + \" | Hora de la cita: \" + actual.receta.hora_cita)\n",
        "      "
      ],
      "metadata": {
        "id": "XU8f1WdbzHL_"
      },
      "execution_count": 64,
      "outputs": []
    },
    {
      "cell_type": "code",
      "source": [
        "r1 = receta(\"Gerson Lopez\",\"03-10-1990\",\"Melvin Ortiz\",20156,\"17-01-2023\",\"11:30\",\"Medicina general\",\"2 pildoras de acetaminofen cada 6 horas\")\n",
        "r2 = receta(\"Karen Gómez\", \"08-05-2000\", \"Jorge Merida\", 8567, \"31-01-2023\", \"09:00\", \"Medicina interna\", \"Tylenol de 20 ml cada 4 horas\")\n",
        "r3 = receta(\"Luis García\", \"17-09-1987\", \"Melvin Ortiz\", 20157, \"02-02-2023\", \"12:00\", \"Medicina general\", \"2 cucharadas de Pepto-Bismol cada hora hasta que la diarrea desaparezca\")"
      ],
      "metadata": {
        "id": "FjgWV13B1YDn"
      },
      "execution_count": 65,
      "outputs": []
    },
    {
      "cell_type": "code",
      "source": [
        "lista_c = lista_circular()\n",
        "lista_c.insertar(r1)\n",
        "lista_c.insertar(r2)\n",
        "lista_c.insertar(r3)"
      ],
      "metadata": {
        "id": "PbmCLNwl1f7m"
      },
      "execution_count": 66,
      "outputs": []
    },
    {
      "cell_type": "markdown",
      "source": [
        "Recorrer lista"
      ],
      "metadata": {
        "id": "x6yj9sdVyl5S"
      }
    },
    {
      "cell_type": "code",
      "source": [
        "lista_c.recorrer()"
      ],
      "metadata": {
        "colab": {
          "base_uri": "https://localhost:8080/"
        },
        "id": "MEhmZUlsxRIc",
        "outputId": "5045ba55-ff73-43ae-8602-68e906f50a0f"
      },
      "execution_count": 67,
      "outputs": [
        {
          "output_type": "stream",
          "name": "stdout",
          "text": [
            "Paciente:  Gerson Lopez | Fecha de nacimiento:  03-10-1990 | Doctor:  Melvin Ortiz | Colegiado:  20156 | Fecha de cita:  17-01-2023 | Hora de cita: 11:30 | Tipo de consulta:  Medicina general | Tratamiento: 2 pildoras de acetaminofen cada 6 horas\n",
            "Paciente:  Luis García | Fecha de nacimiento:  17-09-1987 | Doctor:  Melvin Ortiz | Colegiado:  20157 | Fecha de cita:  02-02-2023 | Hora de cita: 12:00 | Tipo de consulta:  Medicina general | Tratamiento: 2 cucharadas de Pepto-Bismol cada hora hasta que la diarrea desaparezca\n",
            "Paciente:  Karen Gómez | Fecha de nacimiento:  08-05-2000 | Doctor:  Jorge Merida | Colegiado:  8567 | Fecha de cita:  31-01-2023 | Hora de cita: 09:00 | Tipo de consulta:  Medicina interna | Tratamiento: Tylenol de 20 ml cada 4 horas\n"
          ]
        }
      ]
    },
    {
      "cell_type": "markdown",
      "source": [
        "Eliminar un nodo de la lista"
      ],
      "metadata": {
        "id": "83qtsuhC9KYn"
      }
    },
    {
      "cell_type": "code",
      "source": [
        "lista_c.eliminar(8567, \"31-01-2023\", \"09:00\")"
      ],
      "metadata": {
        "id": "tWpd3Wu09JU_"
      },
      "execution_count": 15,
      "outputs": []
    },
    {
      "cell_type": "code",
      "source": [
        "lista_c.recorrer()"
      ],
      "metadata": {
        "colab": {
          "base_uri": "https://localhost:8080/"
        },
        "id": "26MCKWXf9XRn",
        "outputId": "1abab37b-26d1-4548-9f80-9fee96c049ca"
      },
      "execution_count": 16,
      "outputs": [
        {
          "output_type": "stream",
          "name": "stdout",
          "text": [
            "Paciente:  Gerson Lopez | Fecha de nacimiento:  03-10-1990 | Doctor:  Melvin Ortiz | Colegiado:  20156 | Fecha de cita:  17-01-2023 | Hora de cita: 11:30 | Tipo de consulta:  Medicina general | Tratamiento: 2 pildoras de acetaminofen cada 6 horas\n",
            "Paciente:  Luis García | Fecha de nacimiento:  17-09-1987 | Doctor:  Melvin Ortiz | Colegiado:  20157 | Fecha de cita:  02-02-2023 | Hora de cita: 12:00 | Tipo de consulta:  Medicina general | Tratamiento: 2 cucharadas de Pepto-Bismol cada hora hasta que la diarrea desaparezca\n"
          ]
        }
      ]
    },
    {
      "cell_type": "code",
      "source": [
        "lista_c.eliminar(20156, \"17-01-2023\", \"11:30\")"
      ],
      "metadata": {
        "id": "sl5VOjsa9qTu"
      },
      "execution_count": 20,
      "outputs": []
    },
    {
      "cell_type": "code",
      "source": [
        "lista_c.recorrer()"
      ],
      "metadata": {
        "colab": {
          "base_uri": "https://localhost:8080/"
        },
        "id": "elLpeF2p91dv",
        "outputId": "ba79e5de-3bfe-4f6e-eb84-c11161c7a228"
      },
      "execution_count": 21,
      "outputs": [
        {
          "output_type": "stream",
          "name": "stdout",
          "text": [
            "Paciente:  Luis García | Fecha de nacimiento:  17-09-1987 | Doctor:  Melvin Ortiz | Colegiado:  20157 | Fecha de cita:  02-02-2023 | Hora de cita: 12:00 | Tipo de consulta:  Medicina general | Tratamiento: 2 cucharadas de Pepto-Bismol cada hora hasta que la diarrea desaparezca\n",
            "Paciente:  Karen Gómez | Fecha de nacimiento:  08-05-2000 | Doctor:  Jorge Merida | Colegiado:  8567 | Fecha de cita:  31-01-2023 | Hora de cita: 09:00 | Tipo de consulta:  Medicina interna | Tratamiento: Tylenol de 20 ml cada 4 horas\n"
          ]
        }
      ]
    },
    {
      "cell_type": "markdown",
      "source": [
        "Pruebas funcion modificar"
      ],
      "metadata": {
        "id": "J7F3FLE1Bomt"
      }
    },
    {
      "cell_type": "code",
      "source": [
        "lista_c.modificar(\"Karen Gómez\", \"06-02-2023\", \"15:00\")"
      ],
      "metadata": {
        "colab": {
          "base_uri": "https://localhost:8080/"
        },
        "id": "jVQG3b5aBFOw",
        "outputId": "d598179a-d60a-4ed5-8bbf-17f5cad1488a"
      },
      "execution_count": 68,
      "outputs": [
        {
          "output_type": "stream",
          "name": "stdout",
          "text": [
            "Datos antes de la modificacion----------\n",
            "Nombre del Paciente: Karen Gómez | Fecha de la cita: 31-01-2023 | Hora de la cita: 09:00\n",
            "Datos despues de la modificacion----------\n",
            "Nombre del Paciente: Karen Gómez | Fecha de la cita: 06-02-2023 | Hora de la cita: 15:00\n"
          ]
        }
      ]
    },
    {
      "cell_type": "code",
      "source": [
        "lista_c.recorrer()"
      ],
      "metadata": {
        "colab": {
          "base_uri": "https://localhost:8080/"
        },
        "id": "Y4wgf0AyBTqH",
        "outputId": "2ed255af-1778-4ec1-b805-e2dc59e7803f"
      },
      "execution_count": 69,
      "outputs": [
        {
          "output_type": "stream",
          "name": "stdout",
          "text": [
            "Paciente:  Gerson Lopez | Fecha de nacimiento:  03-10-1990 | Doctor:  Melvin Ortiz | Colegiado:  20156 | Fecha de cita:  17-01-2023 | Hora de cita: 11:30 | Tipo de consulta:  Medicina general | Tratamiento: 2 pildoras de acetaminofen cada 6 horas\n",
            "Paciente:  Luis García | Fecha de nacimiento:  17-09-1987 | Doctor:  Melvin Ortiz | Colegiado:  20157 | Fecha de cita:  02-02-2023 | Hora de cita: 12:00 | Tipo de consulta:  Medicina general | Tratamiento: 2 cucharadas de Pepto-Bismol cada hora hasta que la diarrea desaparezca\n",
            "Paciente:  Karen Gómez | Fecha de nacimiento:  08-05-2000 | Doctor:  Jorge Merida | Colegiado:  8567 | Fecha de cita:  06-02-2023 | Hora de cita: 15:00 | Tipo de consulta:  Medicina interna | Tratamiento: Tylenol de 20 ml cada 4 horas\n"
          ]
        }
      ]
    },
    {
      "cell_type": "code",
      "source": [
        "lista_c.modificar(\"Gerson Lopez\", \"07-02-2023\", \"17:00\")"
      ],
      "metadata": {
        "colab": {
          "base_uri": "https://localhost:8080/"
        },
        "id": "OT1NfhMYBfUE",
        "outputId": "122ce3fd-9881-4f6a-ae74-d37de091aaa6"
      },
      "execution_count": 70,
      "outputs": [
        {
          "output_type": "stream",
          "name": "stdout",
          "text": [
            "Datos antes de la modificacion----------\n",
            "Nombre del Paciente: Gerson Lopez | Fecha de la cita: 17-01-2023 | Hora de la cita: 11:30\n",
            "Datos despues de la modificacion----------\n",
            "Nombre del Paciente: Gerson Lopez | Fecha de la cita: 07-02-2023 | Hora de la cita: 17:00\n"
          ]
        }
      ]
    },
    {
      "cell_type": "code",
      "source": [
        "lista_c.recorrer()"
      ],
      "metadata": {
        "colab": {
          "base_uri": "https://localhost:8080/"
        },
        "id": "hZqRR6qTBmPN",
        "outputId": "2018cf63-1749-4355-f77d-5ce38841dc9a"
      },
      "execution_count": 71,
      "outputs": [
        {
          "output_type": "stream",
          "name": "stdout",
          "text": [
            "Paciente:  Gerson Lopez | Fecha de nacimiento:  03-10-1990 | Doctor:  Melvin Ortiz | Colegiado:  20156 | Fecha de cita:  07-02-2023 | Hora de cita: 17:00 | Tipo de consulta:  Medicina general | Tratamiento: 2 pildoras de acetaminofen cada 6 horas\n",
            "Paciente:  Luis García | Fecha de nacimiento:  17-09-1987 | Doctor:  Melvin Ortiz | Colegiado:  20157 | Fecha de cita:  02-02-2023 | Hora de cita: 12:00 | Tipo de consulta:  Medicina general | Tratamiento: 2 cucharadas de Pepto-Bismol cada hora hasta que la diarrea desaparezca\n",
            "Paciente:  Karen Gómez | Fecha de nacimiento:  08-05-2000 | Doctor:  Jorge Merida | Colegiado:  8567 | Fecha de cita:  06-02-2023 | Hora de cita: 15:00 | Tipo de consulta:  Medicina interna | Tratamiento: Tylenol de 20 ml cada 4 horas\n"
          ]
        }
      ]
    }
  ]
}