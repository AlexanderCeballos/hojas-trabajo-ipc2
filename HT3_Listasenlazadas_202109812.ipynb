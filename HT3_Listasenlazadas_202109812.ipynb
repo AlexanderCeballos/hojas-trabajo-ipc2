{
  "nbformat": 4,
  "nbformat_minor": 0,
  "metadata": {
    "colab": {
      "provenance": []
    },
    "kernelspec": {
      "name": "python3",
      "display_name": "Python 3"
    },
    "language_info": {
      "name": "python"
    }
  },
  "cells": [
    {
      "cell_type": "markdown",
      "source": [
        "Alexander Santiago Ceballos Gil 202109812"
      ],
      "metadata": {
        "id": "xAYGMX9lTaDy"
      }
    },
    {
      "cell_type": "markdown",
      "source": [
        "**Hoja de trabajo 3**"
      ],
      "metadata": {
        "id": "S6S_8MM2TUMK"
      }
    },
    {
      "cell_type": "markdown",
      "source": [
        "Listas Enlazadas"
      ],
      "metadata": {
        "id": "BxUP6EdWhnjj"
      }
    },
    {
      "cell_type": "code",
      "source": [
        "class receta:\n",
        "  def __init__(self, paciente, fecha_nac, doctor, colegiado, fecha_cita, hora_cita, tipo_consulta, tratamiento):\n",
        "    self.paciente = paciente\n",
        "    self.fecha_nac = fecha_nac\n",
        "    self.doctor = doctor\n",
        "    self.colegiado = colegiado\n",
        "    self.fecha_cita = fecha_cita\n",
        "    self.hora_cita = hora_cita\n",
        "    self.tipo_consulta = tipo_consulta\n",
        "    self.tratamiento = tratamiento\n",
        "\n",
        "    "
      ],
      "metadata": {
        "id": "qN4z3LObi_iq"
      },
      "execution_count": 540,
      "outputs": []
    },
    {
      "cell_type": "markdown",
      "source": [
        "Clase nodo"
      ],
      "metadata": {
        "id": "OmjqjUYi8104"
      }
    },
    {
      "cell_type": "code",
      "source": [
        "class nodo:\n",
        "  #receta variable\n",
        "  def __init__ (self, receta=None, siguiente=None):\n",
        "    self.receta = receta\n",
        "    self.siguiente = siguiente\n"
      ],
      "metadata": {
        "id": "MuDKsY9Blm6j"
      },
      "execution_count": 541,
      "outputs": []
    },
    {
      "cell_type": "markdown",
      "source": [
        "Definicion de la clase lista enlazada\n"
      ],
      "metadata": {
        "id": "Xz1dQLPFqJvy"
      }
    },
    {
      "cell_type": "code",
      "source": [
        "class lista_enlazada:\n",
        "  def __init__(self):\n",
        "    self.primero = None\n",
        "\n",
        "  def insertar(self, receta):\n",
        "    if self.primero is None:\n",
        "      self.primero = nodo(receta = receta)\n",
        "      return\n",
        "\n",
        "    actual = self.primero\n",
        "    while actual.siguiente:\n",
        "      actual = actual.siguiente\n",
        "    actual.siguiente = nodo(receta = receta)\n",
        "  \n",
        "  def recorrer(self):\n",
        "    actual = self.primero\n",
        "\n",
        "    while actual != None:\n",
        "      print(\"Paciente: \", actual.receta.paciente, \"| Fecha de nacimiento: \", actual.receta.fecha_nac, \"| Doctor: \", actual.receta.doctor, \"| Colegiado: \", actual.receta.colegiado, \"| Fecha de cita: \", actual.receta.fecha_cita, \"| Hora de cita:\", actual.receta.hora_cita, \"| Tipo de consulta: \", actual.receta.tipo_consulta, \"| Tratamiento:\", actual.receta.tratamiento)\n",
        "\n",
        "      actual = actual.siguiente    \n",
        "\n",
        "  def eliminar(self, colegiado, fecha_cita, hora_cita):\n",
        "    actual = self.primero\n",
        "    anterior = None\n",
        "\n",
        "    while actual and actual.receta.colegiado != colegiado and actual.receta.fecha_cita != fecha_cita and actual.receta.hora_cita != hora_cita:\n",
        "      anterior = actual\n",
        "      actual = actual.siguiente\n",
        "\n",
        "    if anterior is None:\n",
        "      self.primero = actual.siguiente\n",
        "      actual.siguiente = None \n",
        "    elif actual:\n",
        "      anterior.siguiente = actual.siguiente\n",
        "      actual.siguiente = None\n",
        "\n",
        "\n",
        "  #Funcion buscar y modificar HT3\n",
        "  def modificar(self, paciente, fecha_cita, hora_cita):\n",
        "    actual = self.primero\n",
        "    anterior = None\n",
        "    \n",
        "    while actual and actual.receta.paciente != paciente:\n",
        "      anterior = actual\n",
        "      actual = actual.siguiente\n",
        "\n",
        "    if anterior is None or actual:\n",
        "      print(\"Datos antes de la modificacion----------\")\n",
        "      print(\"Nombre del Paciente: \" + actual.receta.paciente +\" | Fecha de la cita: \" + actual.receta.fecha_cita + \" | Hora de la cita: \" + actual.receta.hora_cita)\n",
        "\n",
        "      actual.receta.fecha_cita = fecha_cita\n",
        "      actual.receta.hora_cita = hora_cita\n",
        "         \n",
        "      print(\"Datos despues de la modificacion----------\")\n",
        "      print(\"Nombre del Paciente: \" + actual.receta.paciente +\" | Fecha de la cita: \" + actual.receta.fecha_cita + \" | Hora de la cita: \" + actual.receta.hora_cita)\n",
        "    "
      ],
      "metadata": {
        "id": "OZRlxDAUqNaq"
      },
      "execution_count": 542,
      "outputs": []
    },
    {
      "cell_type": "markdown",
      "source": [
        "Creacion de objetos receta"
      ],
      "metadata": {
        "id": "hI8kAyfrxrqM"
      }
    },
    {
      "cell_type": "code",
      "source": [
        "r1 = receta(\"Gerson Lopez\",\"03-10-1990\",\"Melvin Ortiz\",20156,\"17-01-2023\",\"11:30\",\"Medicina general\",\"2 pildoras de acetaminofen cada 6 horas\")\n",
        "r2 = receta(\"Karen Gómez\", \"08-05-2000\", \"Jorge Merida\", 8567, \"31-01-2023\", \"09:00\", \"Medicina interna\", \"Tylenol de 20 ml cada 4 horas\")\n",
        "r3 = receta(\"Luis García\", \"17-09-1987\", \"Melvin Ortiz\", 20157, \"02-02-2023\", \"12:00\", \"Medicina general\", \"2 cucharadas de Pepto-Bismol cada hora hasta que la diarrea desaparezca\")"
      ],
      "metadata": {
        "id": "Q619FeUHxuAZ"
      },
      "execution_count": 570,
      "outputs": []
    },
    {
      "cell_type": "markdown",
      "source": [
        "Insercion"
      ],
      "metadata": {
        "id": "oPThiNEQypYz"
      }
    },
    {
      "cell_type": "code",
      "source": [
        "lista_e = lista_enlazada()\n",
        "lista_e.insertar(r1)\n",
        "lista_e.insertar(r2)\n",
        "lista_e.insertar(r3)"
      ],
      "metadata": {
        "id": "Vg3bC5htyqeS"
      },
      "execution_count": 571,
      "outputs": []
    },
    {
      "cell_type": "markdown",
      "source": [
        "Recorrer \n"
      ],
      "metadata": {
        "id": "9gidibAjxr9h"
      }
    },
    {
      "cell_type": "code",
      "source": [
        "lista_e.recorrer()"
      ],
      "metadata": {
        "colab": {
          "base_uri": "https://localhost:8080/"
        },
        "id": "WWnHK0YMxvWY",
        "outputId": "11269647-f41d-4c94-a066-a7c5de9a0753"
      },
      "execution_count": 572,
      "outputs": [
        {
          "output_type": "stream",
          "name": "stdout",
          "text": [
            "Paciente:  Gerson Lopez | Fecha de nacimiento:  03-10-1990 | Doctor:  Melvin Ortiz | Colegiado:  20156 | Fecha de cita:  17-01-2023 | Hora de cita: 11:30 | Tipo de consulta:  Medicina general | Tratamiento: 2 pildoras de acetaminofen cada 6 horas\n",
            "Paciente:  Karen Gómez | Fecha de nacimiento:  08-05-2000 | Doctor:  Jorge Merida | Colegiado:  8567 | Fecha de cita:  31-01-2023 | Hora de cita: 09:00 | Tipo de consulta:  Medicina interna | Tratamiento: Tylenol de 20 ml cada 4 horas\n",
            "Paciente:  Luis García | Fecha de nacimiento:  17-09-1987 | Doctor:  Melvin Ortiz | Colegiado:  20157 | Fecha de cita:  02-02-2023 | Hora de cita: 12:00 | Tipo de consulta:  Medicina general | Tratamiento: 2 cucharadas de Pepto-Bismol cada hora hasta que la diarrea desaparezca\n"
          ]
        }
      ]
    },
    {
      "cell_type": "markdown",
      "source": [
        "Eliminar\n"
      ],
      "metadata": {
        "id": "BpqbSUaqnpa8"
      }
    },
    {
      "cell_type": "code",
      "source": [
        "#lista_e.eliminar(20156, \"17-01-2023\", \"11:30\")"
      ],
      "metadata": {
        "id": "sTdr-al0nuJz"
      },
      "execution_count": 546,
      "outputs": []
    },
    {
      "cell_type": "code",
      "source": [
        "lista_e.recorrer()"
      ],
      "metadata": {
        "colab": {
          "base_uri": "https://localhost:8080/"
        },
        "id": "x6tFB4V0oHpB",
        "outputId": "39def53d-1295-46eb-988e-061829064bc8"
      },
      "execution_count": 547,
      "outputs": [
        {
          "output_type": "stream",
          "name": "stdout",
          "text": [
            "Paciente:  Karen Gómez | Fecha de nacimiento:  08-05-2000 | Doctor:  Jorge Merida | Colegiado:  8567 | Fecha de cita:  31-01-2023 | Hora de cita: 09:00 | Tipo de consulta:  Medicina interna | Tratamiento: Tylenol de 20 ml cada 4 horas\n",
            "Paciente:  Luis García | Fecha de nacimiento:  17-09-1987 | Doctor:  Melvin Ortiz | Colegiado:  20157 | Fecha de cita:  02-02-2023 | Hora de cita: 12:00 | Tipo de consulta:  Medicina general | Tratamiento: 2 cucharadas de Pepto-Bismol cada hora hasta que la diarrea desaparezca\n"
          ]
        }
      ]
    },
    {
      "cell_type": "code",
      "source": [
        "#lista_e.eliminar(8567, \"31-01-2023\", \"09:00\")"
      ],
      "metadata": {
        "id": "I-DYlZe-oORK"
      },
      "execution_count": 548,
      "outputs": []
    },
    {
      "cell_type": "code",
      "source": [
        "lista_e.recorrer()"
      ],
      "metadata": {
        "colab": {
          "base_uri": "https://localhost:8080/"
        },
        "id": "D9BVVS4woYV6",
        "outputId": "ea1e0e2b-3a89-4754-85a9-d6b8ddd7cb27"
      },
      "execution_count": 549,
      "outputs": [
        {
          "output_type": "stream",
          "name": "stdout",
          "text": [
            "Paciente:  Luis García | Fecha de nacimiento:  17-09-1987 | Doctor:  Melvin Ortiz | Colegiado:  20157 | Fecha de cita:  02-02-2023 | Hora de cita: 12:00 | Tipo de consulta:  Medicina general | Tratamiento: 2 cucharadas de Pepto-Bismol cada hora hasta que la diarrea desaparezca\n"
          ]
        }
      ]
    },
    {
      "cell_type": "code",
      "source": [
        "#lista_e.eliminar(20157, \"02-02-2023\", \"12:00\")"
      ],
      "metadata": {
        "id": "5gsaE173obqR"
      },
      "execution_count": 550,
      "outputs": []
    },
    {
      "cell_type": "code",
      "source": [
        "lista_e.recorrer()"
      ],
      "metadata": {
        "id": "8k-TPBproi50"
      },
      "execution_count": 551,
      "outputs": []
    },
    {
      "cell_type": "code",
      "source": [
        "lista_e.recorrer()"
      ],
      "metadata": {
        "colab": {
          "base_uri": "https://localhost:8080/"
        },
        "id": "0NxQI1TT9rs9",
        "outputId": "57f0c8c6-8c89-4016-f3cd-f0948dd2742b"
      },
      "execution_count": 561,
      "outputs": [
        {
          "output_type": "stream",
          "name": "stdout",
          "text": [
            "Paciente:  Gerson Lopez | Fecha de nacimiento:  03-10-1990 | Doctor:  Melvin Ortiz | Colegiado:  20156 | Fecha de cita:  17-01-2023 | Hora de cita: 11:30 | Tipo de consulta:  Medicina general | Tratamiento: 2 pildoras de acetaminofen cada 6 horas\n",
            "Paciente:  Karen Gómez | Fecha de nacimiento:  08-05-2000 | Doctor:  Jorge Merida | Colegiado:  8567 | Fecha de cita:  31-01-2023 | Hora de cita: 09:00 | Tipo de consulta:  Medicina interna | Tratamiento: Tylenol de 20 ml cada 4 horas\n",
            "Paciente:  Luis García | Fecha de nacimiento:  17-09-1987 | Doctor:  Melvin Ortiz | Colegiado:  20157 | Fecha de cita:  02-02-2023 | Hora de cita: 12:00 | Tipo de consulta:  Medicina general | Tratamiento: 2 cucharadas de Pepto-Bismol cada hora hasta que la diarrea desaparezca\n"
          ]
        }
      ]
    },
    {
      "cell_type": "code",
      "source": [
        "lista_e.modificar(\"Karen Gómez\",\"10-02-2023\", \"14:00\")"
      ],
      "metadata": {
        "colab": {
          "base_uri": "https://localhost:8080/"
        },
        "id": "K_CbI3QnXRdt",
        "outputId": "c9208c44-987b-4f3a-d13d-10eade4dad32"
      },
      "execution_count": 573,
      "outputs": [
        {
          "output_type": "stream",
          "name": "stdout",
          "text": [
            "Datos antes de la modificacion----------\n",
            "Nombre del Paciente: Karen Gómez | Fecha de la cita: 31-01-2023 | Hora de la cita: 09:00\n",
            "Datos despues de la modificacion----------\n",
            "Nombre del Paciente: Karen Gómez | Fecha de la cita: 10-02-2023 | Hora de la cita: 14:00\n"
          ]
        }
      ]
    },
    {
      "cell_type": "code",
      "source": [
        "lista_e.recorrer()"
      ],
      "metadata": {
        "colab": {
          "base_uri": "https://localhost:8080/"
        },
        "id": "tZZiBwSRu89w",
        "outputId": "62e4995e-6480-4f24-a034-0f7a124dc9d2"
      },
      "execution_count": 574,
      "outputs": [
        {
          "output_type": "stream",
          "name": "stdout",
          "text": [
            "Paciente:  Gerson Lopez | Fecha de nacimiento:  03-10-1990 | Doctor:  Melvin Ortiz | Colegiado:  20156 | Fecha de cita:  17-01-2023 | Hora de cita: 11:30 | Tipo de consulta:  Medicina general | Tratamiento: 2 pildoras de acetaminofen cada 6 horas\n",
            "Paciente:  Karen Gómez | Fecha de nacimiento:  08-05-2000 | Doctor:  Jorge Merida | Colegiado:  8567 | Fecha de cita:  10-02-2023 | Hora de cita: 14:00 | Tipo de consulta:  Medicina interna | Tratamiento: Tylenol de 20 ml cada 4 horas\n",
            "Paciente:  Luis García | Fecha de nacimiento:  17-09-1987 | Doctor:  Melvin Ortiz | Colegiado:  20157 | Fecha de cita:  02-02-2023 | Hora de cita: 12:00 | Tipo de consulta:  Medicina general | Tratamiento: 2 cucharadas de Pepto-Bismol cada hora hasta que la diarrea desaparezca\n"
          ]
        }
      ]
    },
    {
      "cell_type": "code",
      "source": [
        "lista_e.modificar(\"Luis García\",\"18-05-2023\", \"16:00\")"
      ],
      "metadata": {
        "colab": {
          "base_uri": "https://localhost:8080/"
        },
        "id": "6YqcP_f113r_",
        "outputId": "44639491-3266-4adc-b223-dc1f125be7c9"
      },
      "execution_count": 575,
      "outputs": [
        {
          "output_type": "stream",
          "name": "stdout",
          "text": [
            "Datos antes de la modificacion----------\n",
            "Nombre del Paciente: Luis García | Fecha de la cita: 02-02-2023 | Hora de la cita: 12:00\n",
            "Datos despues de la modificacion----------\n",
            "Nombre del Paciente: Luis García | Fecha de la cita: 18-05-2023 | Hora de la cita: 16:00\n"
          ]
        }
      ]
    },
    {
      "cell_type": "code",
      "source": [
        "lista_e.recorrer()"
      ],
      "metadata": {
        "colab": {
          "base_uri": "https://localhost:8080/"
        },
        "id": "MrYN4voE2pb3",
        "outputId": "e8156d13-0e51-4d89-e886-6360fdddcaf3"
      },
      "execution_count": 576,
      "outputs": [
        {
          "output_type": "stream",
          "name": "stdout",
          "text": [
            "Paciente:  Gerson Lopez | Fecha de nacimiento:  03-10-1990 | Doctor:  Melvin Ortiz | Colegiado:  20156 | Fecha de cita:  17-01-2023 | Hora de cita: 11:30 | Tipo de consulta:  Medicina general | Tratamiento: 2 pildoras de acetaminofen cada 6 horas\n",
            "Paciente:  Karen Gómez | Fecha de nacimiento:  08-05-2000 | Doctor:  Jorge Merida | Colegiado:  8567 | Fecha de cita:  10-02-2023 | Hora de cita: 14:00 | Tipo de consulta:  Medicina interna | Tratamiento: Tylenol de 20 ml cada 4 horas\n",
            "Paciente:  Luis García | Fecha de nacimiento:  17-09-1987 | Doctor:  Melvin Ortiz | Colegiado:  20157 | Fecha de cita:  18-05-2023 | Hora de cita: 16:00 | Tipo de consulta:  Medicina general | Tratamiento: 2 cucharadas de Pepto-Bismol cada hora hasta que la diarrea desaparezca\n"
          ]
        }
      ]
    }
  ]
}