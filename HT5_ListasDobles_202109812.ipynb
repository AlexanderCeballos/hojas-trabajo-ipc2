{
  "nbformat": 4,
  "nbformat_minor": 0,
  "metadata": {
    "colab": {
      "provenance": []
    },
    "kernelspec": {
      "name": "python3",
      "display_name": "Python 3"
    },
    "language_info": {
      "name": "python"
    }
  },
  "cells": [
    {
      "cell_type": "markdown",
      "source": [],
      "metadata": {
        "id": "SsJeD_XOCigA"
      }
    },
    {
      "cell_type": "markdown",
      "source": [
        "Lista doblemente enlazada"
      ],
      "metadata": {
        "id": "Xk9L0sqiiJyG"
      }
    },
    {
      "cell_type": "markdown",
      "source": [
        "Clase receta"
      ],
      "metadata": {
        "id": "FbFTIbrGo5Pb"
      }
    },
    {
      "cell_type": "code",
      "source": [
        "class receta:\n",
        "  def __init__(self, paciente, fecha_nac, doctor, colegiado, fecha_cita, hora_cita, tipo_consulta, tratamiento):\n",
        "    self.paciente = paciente\n",
        "    self.fecha_nac = fecha_nac\n",
        "    self.doctor = doctor\n",
        "    self.colegiado = colegiado\n",
        "    self.fecha_cita = fecha_cita\n",
        "    self.hora_cita = hora_cita\n",
        "    self.tipo_consulta = tipo_consulta\n",
        "    self.tratamiento = tratamiento\n"
      ],
      "metadata": {
        "id": "Er0oK_Aoo6u1"
      },
      "execution_count": 42,
      "outputs": []
    },
    {
      "cell_type": "markdown",
      "source": [
        "Definicon de la clase Nodo"
      ],
      "metadata": {
        "id": "6H13RhDtpPjy"
      }
    },
    {
      "cell_type": "code",
      "source": [
        "class nodo:\n",
        "  def __init__(self, receta=None, siguiente=None, anterior=None):\n",
        "    self.receta = receta\n",
        "    self.siguiente = siguiente\n",
        "    self.anterior = anterior"
      ],
      "metadata": {
        "id": "wvdmcz1JnzUn"
      },
      "execution_count": 43,
      "outputs": []
    },
    {
      "cell_type": "markdown",
      "source": [
        "Definicion de la Clase Lista Doblemente Enlazada"
      ],
      "metadata": {
        "id": "M0dhiMc4sLyX"
      }
    },
    {
      "cell_type": "code",
      "source": [
        "class lista_doble:\n",
        "  def __init__(self):\n",
        "    self.primero = None\n",
        "\n",
        "  def insertar(self, receta):\n",
        "    if self.primero is None:\n",
        "      self.primero = nodo(receta=receta)\n",
        "    else:\n",
        "      actual = nodo(receta=receta, siguiente=self.primero)\n",
        "      self.primero.anterior = actual\n",
        "      self.primero = actual\n",
        "\n",
        "  def recorrer(self):\n",
        "    if self.primero is None:\n",
        "      return\n",
        "    actual = self.primero\n",
        "    print(\"Paciente: \", actual.receta.paciente, \"| Fecha de nacimiento: \", actual.receta.fecha_nac, \"| Doctor: \", actual.receta.doctor, \"| Colegiado: \", actual.receta.colegiado, \"| Fecha de cita: \", actual.receta.fecha_cita, \"| Hora de cita:\", actual.receta.hora_cita, \"| Tipo de consulta: \", actual.receta.tipo_consulta, \"| Tratamiento:\", actual.receta.tratamiento)\n",
        "    while actual.siguiente:\n",
        "      actual = actual.siguiente\n",
        "      print(\"Paciente: \", actual.receta.paciente, \"| Fecha de nacimiento: \", actual.receta.fecha_nac, \"| Doctor: \", actual.receta.doctor, \"| Colegiado: \", actual.receta.colegiado, \"| Fecha de cita: \", actual.receta.fecha_cita, \"| Hora de cita:\", actual.receta.hora_cita, \"| Tipo de consulta: \", actual.receta.tipo_consulta, \"| Tratamiento:\", actual.receta.tratamiento)\n",
        "            \n",
        "  def eliminar(self, colegiado, fecha_cita, hora_cita):\n",
        "    actual = self.primero\n",
        "    while actual:\n",
        "      if actual.receta.colegiado == colegiado and actual.receta.fecha_cita == fecha_cita and actual.receta.hora_cita == hora_cita:\n",
        "        if actual.anterior:\n",
        "          if actual.siguiente:\n",
        "            actual.anterior.siguiente = actual.siguiente\n",
        "            actual.siguiente.anterior = actual.anterior\n",
        "          else:\n",
        "            actual.anterior.siguiente = None\n",
        "            actual.anterior = None\n",
        "        else:\n",
        "          if actual.siguiente:\n",
        "            self.primero = actual.siguiente\n",
        "            actual.siguiente.anterior = None\n",
        "          else:\n",
        "            self.primero = None\n",
        "        return True      \n",
        "      else:\n",
        "        actual = actual.siguiente\n",
        "    return False\n",
        "\n",
        "# HT5 funcion modificar\n",
        "  def modificar(self, paciente, fecha_cita, hora_cita):\n",
        "    actual = self.primero\n",
        "\n",
        "    if actual.receta.paciente == paciente:\n",
        "\n",
        "      print(\"------Datos_actuales------\")\n",
        "      print(\"Paciente: \" + actual.receta.paciente +\" | Fecha de la cita: \" + actual.receta.fecha_cita + \" | Hora de la cita: \" + actual.receta.hora_cita)\n",
        "      print(\"\")\n",
        "\n",
        "      actual.receta.fecha_cita = fecha_cita\n",
        "      actual.receta.hora_cita = hora_cita\n",
        "         \n",
        "      print(\"----------Datos_modificados----------\")\n",
        "      print(\"Paciente: \" + actual.receta.paciente +\" | Fecha de la cita: \" + actual.receta.fecha_cita + \" | Hora de la cita: \" + actual.receta.hora_cita)\n",
        "\n",
        "    else:\n",
        "\n",
        "      print(\"Dato no encontrado\")\n",
        "\n",
        "    "
      ],
      "metadata": {
        "id": "fSDp5JTmsRAE"
      },
      "execution_count": 283,
      "outputs": []
    },
    {
      "cell_type": "markdown",
      "source": [
        "Creacion Objetos Receta"
      ],
      "metadata": {
        "id": "iCGZg5oVuFIR"
      }
    },
    {
      "cell_type": "code",
      "source": [
        "r1 = receta(\"Gerson Lopez\",\"03-10-1990\",\"Melvin Ortiz\",20156,\"17-01-2023\",\"11:30\",\"Medicina general\",\"2 pildoras de acetaminofen cada 6 horas\")\n",
        "r2 = receta(\"Karen Gómez\", \"08-05-2000\", \"Jorge Merida\", 8567, \"31-01-2023\", \"09:00\", \"Medicina interna\", \"Tylenol de 20 ml cada 4 horas\")\n",
        "r3 = receta(\"Luis García\", \"17-09-1987\", \"Melvin Ortiz\", 20157, \"02-02-2023\", \"12:00\", \"Medicina general\", \"2 cucharadas de Pepto-Bismol cada hora hasta que la diarrea desaparezca\")"
      ],
      "metadata": {
        "id": "HHFQpJ4quKYr"
      },
      "execution_count": 284,
      "outputs": []
    },
    {
      "cell_type": "markdown",
      "source": [
        "Insercion\n"
      ],
      "metadata": {
        "id": "q4LVP14DuPd1"
      }
    },
    {
      "cell_type": "code",
      "source": [
        "lista_d = lista_doble()\n",
        "lista_d.insertar(r1)\n",
        "lista_d.insertar(r2)\n",
        "lista_d.insertar(r3)"
      ],
      "metadata": {
        "id": "KSiDpT6NuQ2t"
      },
      "execution_count": 285,
      "outputs": []
    },
    {
      "cell_type": "markdown",
      "source": [
        "Recorrer la lista"
      ],
      "metadata": {
        "id": "a6-7BbJu0X6O"
      }
    },
    {
      "cell_type": "code",
      "source": [
        "lista_d.recorrer()"
      ],
      "metadata": {
        "id": "glCdYkr80bJz",
        "colab": {
          "base_uri": "https://localhost:8080/"
        },
        "outputId": "1658486f-c824-4d68-ddcd-9860b4cd2ea1"
      },
      "execution_count": 286,
      "outputs": [
        {
          "output_type": "stream",
          "name": "stdout",
          "text": [
            "Paciente:  Luis García | Fecha de nacimiento:  17-09-1987 | Doctor:  Melvin Ortiz | Colegiado:  20157 | Fecha de cita:  02-02-2023 | Hora de cita: 12:00 | Tipo de consulta:  Medicina general | Tratamiento: 2 cucharadas de Pepto-Bismol cada hora hasta que la diarrea desaparezca\n",
            "Paciente:  Karen Gómez | Fecha de nacimiento:  08-05-2000 | Doctor:  Jorge Merida | Colegiado:  8567 | Fecha de cita:  31-01-2023 | Hora de cita: 09:00 | Tipo de consulta:  Medicina interna | Tratamiento: Tylenol de 20 ml cada 4 horas\n",
            "Paciente:  Gerson Lopez | Fecha de nacimiento:  03-10-1990 | Doctor:  Melvin Ortiz | Colegiado:  20156 | Fecha de cita:  17-01-2023 | Hora de cita: 11:30 | Tipo de consulta:  Medicina general | Tratamiento: 2 pildoras de acetaminofen cada 6 horas\n"
          ]
        }
      ]
    },
    {
      "cell_type": "markdown",
      "source": [
        "Eliminar el nodo del medio de la lista"
      ],
      "metadata": {
        "id": "v9JXFvac-sEr"
      }
    },
    {
      "cell_type": "code",
      "source": [
        "lista_d.eliminar(8567, \"31-01-2023\", \"09:00\")\n",
        "lista_d.recorrer()"
      ],
      "metadata": {
        "id": "uJDxFlJH-w2M",
        "colab": {
          "base_uri": "https://localhost:8080/"
        },
        "outputId": "79d57fbc-d817-4a5a-b8d7-ea44967a40d8"
      },
      "execution_count": 102,
      "outputs": [
        {
          "output_type": "stream",
          "name": "stdout",
          "text": [
            "Paciente:  Luis García | Fecha de nacimiento:  17-09-1987 | Doctor:  Melvin Ortiz | Colegiado:  20157 | Fecha de cita:  16-04-2023 | Hora de cita: 13:20 | Tipo de consulta:  Medicina general | Tratamiento: 2 cucharadas de Pepto-Bismol cada hora hasta que la diarrea desaparezca\n",
            "Paciente:  Gerson Lopez | Fecha de nacimiento:  03-10-1990 | Doctor:  Melvin Ortiz | Colegiado:  20156 | Fecha de cita:  17-01-2023 | Hora de cita: 11:30 | Tipo de consulta:  Medicina general | Tratamiento: 2 pildoras de acetaminofen cada 6 horas\n"
          ]
        }
      ]
    },
    {
      "cell_type": "markdown",
      "source": [
        "Eliminar el nodo primero de la lista"
      ],
      "metadata": {
        "id": "E5UWcefF_WSa"
      }
    },
    {
      "cell_type": "code",
      "source": [
        "lista_d.eliminar(20157, \"02-02-2023\", \"12:00\")\n",
        "lista_d.recorrer()"
      ],
      "metadata": {
        "colab": {
          "base_uri": "https://localhost:8080/"
        },
        "id": "D1L4NkKA_bHh",
        "outputId": "9decb1a6-fe6a-494d-ae3a-b5428f04ee38"
      },
      "execution_count": 109,
      "outputs": [
        {
          "output_type": "stream",
          "name": "stdout",
          "text": [
            "Paciente:  Karen Gómez | Fecha de nacimiento:  08-05-2000 | Doctor:  Jorge Merida | Colegiado:  8567 | Fecha de cita:  31-01-2023 | Hora de cita: 09:00 | Tipo de consulta:  Medicina interna | Tratamiento: Tylenol de 20 ml cada 4 horas\n",
            "Paciente:  Gerson Lopez | Fecha de nacimiento:  03-10-1990 | Doctor:  Melvin Ortiz | Colegiado:  20156 | Fecha de cita:  17-01-2023 | Hora de cita: 11:30 | Tipo de consulta:  Medicina general | Tratamiento: 2 pildoras de acetaminofen cada 6 horas\n"
          ]
        }
      ]
    },
    {
      "cell_type": "markdown",
      "source": [
        "Eliminar el nodo del medio de la lista"
      ],
      "metadata": {
        "id": "_f3UQvjPACxz"
      }
    },
    {
      "cell_type": "code",
      "source": [
        "lista_d.eliminar(20156,\"17-01-2023\",\"11:30\")\n",
        "lista_d.recorrer()"
      ],
      "metadata": {
        "id": "YugsZD58AFlS",
        "colab": {
          "base_uri": "https://localhost:8080/"
        },
        "outputId": "9a84512a-c0ab-446e-b7e7-0e5938e40d48"
      },
      "execution_count": 62,
      "outputs": [
        {
          "output_type": "stream",
          "name": "stdout",
          "text": [
            "Paciente:  Luis García | Fecha de nacimiento:  17-09-1987 | Doctor:  Melvin Ortiz | Colegiado:  20157 | Fecha de cita:  02-02-2023 | Hora de cita: 12:00 | Tipo de consulta:  Medicina general | Tratamiento: 2 cucharadas de Pepto-Bismol cada hora hasta que la diarrea desaparezca\n",
            "Paciente:  Karen Gómez | Fecha de nacimiento:  08-05-2000 | Doctor:  Jorge Merida | Colegiado:  8567 | Fecha de cita:  31-01-2023 | Hora de cita: 09:00 | Tipo de consulta:  Medicina interna | Tratamiento: Tylenol de 20 ml cada 4 horas\n"
          ]
        }
      ]
    },
    {
      "cell_type": "markdown",
      "source": [
        "Eliminar nodo a nodo de la lista"
      ],
      "metadata": {
        "id": "y3d9B_BaAhOi"
      }
    },
    {
      "cell_type": "code",
      "source": [
        "lista_d.eliminar(8567, \"31-01-2023\", \"09:00\")\n",
        "lista_d.recorrer()\n",
        "\n",
        "lista_d.eliminar(20157, \"02-02-2023\", \"12:00\")\n",
        "lista_d.recorrer()\n",
        "\n",
        "lista_d.eliminar(20156, \"17-01-2023\",\"11:30\")\n",
        "lista_d.recorrer()"
      ],
      "metadata": {
        "id": "3lMjoy7zAoRi",
        "colab": {
          "base_uri": "https://localhost:8080/"
        },
        "outputId": "4e1d3b32-5108-4432-b4b5-720e80f4a814"
      },
      "execution_count": 69,
      "outputs": [
        {
          "output_type": "stream",
          "name": "stdout",
          "text": [
            "Paciente:  Luis García | Fecha de nacimiento:  17-09-1987 | Doctor:  Melvin Ortiz | Colegiado:  20157 | Fecha de cita:  02-02-2023 | Hora de cita: 12:00 | Tipo de consulta:  Medicina general | Tratamiento: 2 cucharadas de Pepto-Bismol cada hora hasta que la diarrea desaparezca\n",
            "Paciente:  Gerson Lopez | Fecha de nacimiento:  03-10-1990 | Doctor:  Melvin Ortiz | Colegiado:  20156 | Fecha de cita:  17-01-2023 | Hora de cita: 11:30 | Tipo de consulta:  Medicina general | Tratamiento: 2 pildoras de acetaminofen cada 6 horas\n",
            "Paciente:  Gerson Lopez | Fecha de nacimiento:  03-10-1990 | Doctor:  Melvin Ortiz | Colegiado:  20156 | Fecha de cita:  17-01-2023 | Hora de cita: 11:30 | Tipo de consulta:  Medicina general | Tratamiento: 2 pildoras de acetaminofen cada 6 horas\n"
          ]
        }
      ]
    },
    {
      "cell_type": "markdown",
      "source": [
        "Prueba metodo modificar"
      ],
      "metadata": {
        "id": "01wcUEVyH4Dn"
      }
    },
    {
      "cell_type": "code",
      "source": [
        "lista_d.modificar(\"Luis García\",\"16-04-2023\",\"13:20\")"
      ],
      "metadata": {
        "colab": {
          "base_uri": "https://localhost:8080/"
        },
        "id": "cPqp67rlIPp_",
        "outputId": "44954aa7-4ba7-4e7f-9114-b47c571f27b3"
      },
      "execution_count": 287,
      "outputs": [
        {
          "output_type": "stream",
          "name": "stdout",
          "text": [
            "------Datos_actuales------\n",
            "Paciente: Luis García | Fecha de la cita: 02-02-2023 | Hora de la cita: 12:00\n",
            "\n",
            "----------Datos_modificados----------\n",
            "Paciente: Luis García | Fecha de la cita: 16-04-2023 | Hora de la cita: 13:20\n"
          ]
        }
      ]
    }
  ]
}